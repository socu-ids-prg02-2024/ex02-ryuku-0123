{
  "cells": [
    {
      "cell_type": "markdown",
      "metadata": {
        "id": "view-in-github",
        "colab_type": "text"
      },
      "source": [
        "<a href=\"https://colab.research.google.com/github/socu-ids-prg02-2024/ex02-ryuku-0123/blob/main/ex02.ipynb\" target=\"_parent\"><img src=\"https://colab.research.google.com/assets/colab-badge.svg\" alt=\"Open In Colab\"/></a>"
      ]
    },
    {
      "cell_type": "markdown",
      "metadata": {
        "id": "hkMNqSXjniTl"
      },
      "source": [
        "# 第2回 課題"
      ]
    },
    {
      "cell_type": "markdown",
      "metadata": {
        "id": "eU0lp9XbniTm"
      },
      "source": [
        "以下の設問に解答し、提出せよ。"
      ]
    },
    {
      "cell_type": "markdown",
      "metadata": {
        "id": "NfnfzUvzniTn"
      },
      "source": [
        "## 注意事項"
      ]
    },
    {
      "cell_type": "markdown",
      "metadata": {
        "id": "TqWl4GdMniTn"
      },
      "source": [
        "提出場所と提出ファイル名に注意すること。**違反した場合、自動採点が行われない。また自動採点の結果を本課題の点数とし、手動での採点は行わない。提出時に自動採点が行われていることを各自で確認すること。**\n",
        "- 提出場所: githubのrepository\n",
        "    - repositoryの名前: ex02-<アカウント名>\n",
        "- 提出ファイル名: ex02.ipynb\n",
        "\n",
        "**提出ファイルが単体でエラーなく実行できることを確認すること。** 提出ファイルの中に失敗するテストや文法的に間違ったプログラムが含まれている場合、**自動採点による採点が失敗して0点となる場合がある。**"
      ]
    },
    {
      "cell_type": "markdown",
      "metadata": {
        "id": "tqdKhH4LniTn"
      },
      "source": [
        "## Q1. (40点)"
      ]
    },
    {
      "cell_type": "code",
      "source": [],
      "metadata": {
        "id": "tjbQkq_JoQcf"
      },
      "execution_count": null,
      "outputs": []
    },
    {
      "cell_type": "markdown",
      "metadata": {
        "id": "eL-s7Pc5niTn"
      },
      "source": [
        "ある国のおてんばで勇敢なお姫様はある日，部屋の壁を壊してお城を抜け出し，ギャンブルが行われている賭博場に入っていった．ところが，ギャンブルなどやったことのないお姫様は，非常に負けが込んでしまった．この状況をおもしろくないと思ったお姫様は，一体どのような仕組みでギャンブルが行われているかを調べてみた．すると，このようなギャンブルではパリミュチュエル方式と呼ばれる方式で配当が決定されていることを突き止めた．\n",
        "\n",
        "パリミュチュエル方式とは，競走を対象としたギャンブルにおいて配当を決定するために使用する計算方法である．この方式では，全ての掛け金をプールし，一定の割合を控除した上で，当選者に掛け金に比例した金額を分配する．\n",
        "\n",
        "現在お姫様が熱中しているギャンブルは，参加者は競技前にどの競技者が優勝するかを予想する 1枚100ゴールドの投票券を購入し，競技の結果が予想と一致すれば当選金を受け取る権利を得るというものである．なお，ゴールドはこの国の通貨単位である．あなたの仕事は入力として与えられる競技の情報をもとに，投票券一枚あたりの配当を計算する関数`payout()`を書くことである．\n",
        "\n",
        "先述の方法で計算される配当額が整数にならない場合は，切り捨てによって整数にすること．"
      ]
    },
    {
      "cell_type": "markdown",
      "metadata": {
        "id": "nAAtrfr7niTn"
      },
      "source": [
        "### `payout()`の入力(引数): ファイル名"
      ]
    },
    {
      "cell_type": "markdown",
      "metadata": {
        "id": "YD-o0_R3niTo"
      },
      "source": [
        "入力は複数のデータセットを記したファイルの名前である．データセットの個数は100以下である．最後のデータセットの後に，入力の終わりを示す「0 0 0」からなる一行が与えられる．\n",
        "\n",
        "各データセットは次のような形式をしている．\n",
        "\n",
        "$\\begin{array}{ccc}\n",
        "N & M & P\\\\\n",
        "X_1& & \\\\\n",
        "\\vdots & & \\\\\n",
        "X_N& &\n",
        "\\end{array}$\n",
        "\n",
        "最初の行の$N$は投票の対象となる競技者の数，$M$は優勝した競技者の番号，$P$は控除率（百分率）を表す整数である．$X_i$は$i$番目の競技者に投票された投票券の枚数である． $1\\leq N\\leq 100$， $1\\leq M\\leq N$， $0\\leq P\\leq 100$， $0\\leq X_i\\leq 1000$ を仮定してよい．"
      ]
    },
    {
      "cell_type": "markdown",
      "metadata": {
        "id": "Gpmc1Zx4niTo"
      },
      "source": [
        "### `payout()`の出力(返値): リスト"
      ]
    },
    {
      "cell_type": "markdown",
      "metadata": {
        "id": "z-SxpgE0niTo"
      },
      "source": [
        "各データセットに対し当選した投票券一枚あたりの配当金額を示す整数からなるリストを返せ．賭けに勝った人がいない場合は0を出力せよ．出力行には他の文字があってはならない．"
      ]
    },
    {
      "cell_type": "markdown",
      "metadata": {
        "id": "xLLk_hdDniTo"
      },
      "source": [
        "### 入力ファイル例"
      ]
    },
    {
      "cell_type": "markdown",
      "metadata": {
        "id": "Wibwtu4LniTo"
      },
      "source": [
        "```text\n",
        "3 2 50\n",
        "1\n",
        "2\n",
        "3\n",
        "4 4 75\n",
        "1\n",
        "2\n",
        "3\n",
        "0\n",
        "3 1 10\n",
        "8\n",
        "1\n",
        "1\n",
        "0 0 0\n",
        "```"
      ]
    },
    {
      "cell_type": "markdown",
      "metadata": {
        "id": "LWfXdwY7niTo"
      },
      "source": [
        "### 入力ファイル例に対して期待される出力"
      ]
    },
    {
      "cell_type": "markdown",
      "metadata": {
        "id": "X3_iFruoniTo"
      },
      "source": [
        "```python\n",
        "[150, 0, 112]\n",
        "```"
      ]
    },
    {
      "cell_type": "markdown",
      "metadata": {
        "id": "gq8tK5QyniTo"
      },
      "source": [
        "### 解答欄"
      ]
    },
    {
      "cell_type": "code",
      "source": [
        "%%writefile input.txt\n",
        "3 2 50\n",
        "1\n",
        "2\n",
        "3\n",
        "4 4 75\n",
        "1\n",
        "2\n",
        "3\n",
        "0\n",
        "3 1 10\n",
        "8\n",
        "1\n",
        "1\n",
        "0 0 0\n"
      ],
      "metadata": {
        "id": "zUSzqipurCTi",
        "colab": {
          "base_uri": "https://localhost:8080/"
        },
        "outputId": "0eabed8b-d1d0-4a53-de99-c577cf57b775"
      },
      "execution_count": 15,
      "outputs": [
        {
          "output_type": "stream",
          "name": "stdout",
          "text": [
            "Overwriting input.txt\n"
          ]
        }
      ]
    },
    {
      "cell_type": "code",
      "execution_count": 18,
      "metadata": {
        "id": "Q_Tzfq8wniTp"
      },
      "outputs": [],
      "source": [
        "def payout(filename):\n",
        "    '''\n",
        "    Parameters:\n",
        "        filename (str): データセットを記したファイルの名前\n",
        "\n",
        "    Returns:\n",
        "        list: 各データセットについて選択した2人の学生の成績の差の絶対値からなるリスト\n",
        "    '''\n",
        "    results = []\n",
        "\n",
        "    with open(filename, 'r') as file:\n",
        "        while True:\n",
        "            # 各データセットの最初の行を読み込む\n",
        "            first_line = file.readline().strip()\n",
        "            if first_line == \"0 0 0\":\n",
        "                break  # 終了条件\n",
        "            # N, M, P の取得\n",
        "            N, M, P = map(int, first_line.split())\n",
        "\n",
        "            # 各競技者の投票数を読み込む\n",
        "            votes = []\n",
        "            for _ in range(N):\n",
        "                votes.append(int(file.readline().strip()))\n",
        "\n",
        "            # 総投票数を計算\n",
        "            total_votes = sum(votes) * 100  # 各投票券は100ゴールド\n",
        "\n",
        "            # 控除後の金額を計算\n",
        "            pool_after_deduction = total_votes * (100 - P) // 100\n",
        "\n",
        "            # 優勝者への投票券の数\n",
        "            winning_votes = votes[M - 1]\n",
        "\n",
        "            if winning_votes == 0:\n",
        "                # 勝った競技者に投票した人がいない場合\n",
        "                results.append(0)\n",
        "            else:\n",
        "                # 配当金を計算\n",
        "                payout_per_ticket = pool_after_deduction // winning_votes\n",
        "                results.append(payout_per_ticket)\n",
        "\n",
        "    return results"
      ]
    },
    {
      "cell_type": "code",
      "source": [
        "print(payout(\"input.txt\"))"
      ],
      "metadata": {
        "colab": {
          "base_uri": "https://localhost:8080/"
        },
        "id": "4KLQK4-yupM0",
        "outputId": "f022aaf9-2583-4716-cb3a-c0477725e33e"
      },
      "execution_count": 19,
      "outputs": [
        {
          "output_type": "stream",
          "name": "stdout",
          "text": [
            "[150, 0, 112]\n"
          ]
        }
      ]
    },
    {
      "cell_type": "markdown",
      "metadata": {
        "id": "H_4_j8gwniTp"
      },
      "source": [
        "## Q2. (40点)"
      ]
    },
    {
      "cell_type": "markdown",
      "metadata": {
        "id": "HASxA-UaniTp"
      },
      "source": [
        "山口東京理科大学のK先生は，プログラミング教育の新しい方法を考案した．この方法が有効かどうかを確認するために，対照実験を行うことにした． 2人の学生を被験者として，一方を従来の方法で教え，もう一方を新しい方法で教える． 2人の最終的な成績を比べれば，新しい方法が有効かどうか判定できるだろう．\n",
        "\n",
        "公平な比較を行うためには，成績のなるべく近い2人を選ぶことが肝要である． 手元には，実験に参加可能な学生各人の成績の一覧表がある． この中から成績の差が最も小さい2人を選ぶ関数`minimum_diff()`を書いてほしい．"
      ]
    },
    {
      "cell_type": "markdown",
      "metadata": {
        "id": "Coej2HX1niTp"
      },
      "source": [
        "### `minimum_diff()`の入力(引数): ファイル名"
      ]
    },
    {
      "cell_type": "markdown",
      "metadata": {
        "id": "ajRGVwRoniTp"
      },
      "source": [
        "入力は複数のデータセットを記したファイルの名前である． 各データセットは次の形式で表される．\n",
        "\n",
        "$\\begin{array}{cccc}\n",
        "n & & & \\\\\n",
        "a_1 & a_2 & \\cdots & a_n\n",
        "\\end{array}$\n",
        "\n",
        "データセットは2行からなる．1行目には学生の人数$n$が与えられる．$n$は整数であり，$2\\leq n\\leq 1000$が成り立つ．2行目には$n$人の学生の成績が与えられる． $a_i$（$1\\leq i\\leq n$）が$i$番目の学生の成績である．この値は整数であり，0以上1,000,000以下である．\n",
        "\n",
        "入力の終わりは，1個のゼロだけからなる行で表される． 全データセットの$n$の合計は50,000を超えない．"
      ]
    },
    {
      "cell_type": "markdown",
      "metadata": {
        "id": "qg6F8iJDniTp"
      },
      "source": [
        "### `minimum_diff()`の出力(返値): リスト"
      ]
    },
    {
      "cell_type": "markdown",
      "metadata": {
        "id": "MdhsmL-tniTp"
      },
      "source": [
        "各データセットについて，成績の差が最小の2人の学生を選び， その差の絶対値を並べたリストを返せ。"
      ]
    },
    {
      "cell_type": "markdown",
      "metadata": {
        "id": "WMp44DOhniTp"
      },
      "source": [
        "### 入力ファイル例"
      ]
    },
    {
      "cell_type": "markdown",
      "metadata": {
        "id": "T3fGEWdbniTq"
      },
      "source": [
        "```text\n",
        "5\n",
        "10 10 10 10 10\n",
        "5\n",
        "1 5 8 9 11\n",
        "7\n",
        "11 34 83 47 59 29 70\n",
        "0\n",
        "```"
      ]
    },
    {
      "cell_type": "markdown",
      "metadata": {
        "id": "9MjZfZWRniTq"
      },
      "source": [
        "### 入力ファイル例に対して期待される出力"
      ]
    },
    {
      "cell_type": "markdown",
      "metadata": {
        "id": "tcjM2FXpniTq"
      },
      "source": [
        "```python\n",
        "[0, 1, 5]\n",
        "```"
      ]
    },
    {
      "cell_type": "markdown",
      "metadata": {
        "id": "PSpqCLUmniTq"
      },
      "source": [
        "### 解答欄"
      ]
    },
    {
      "cell_type": "code",
      "source": [
        "%%writefile input.txt2\n",
        "5\n",
        "10 10 10 10 10\n",
        "5\n",
        "1 5 8 9 11\n",
        "7\n",
        "11 34 83 47 59 29 70\n",
        "0"
      ],
      "metadata": {
        "colab": {
          "base_uri": "https://localhost:8080/"
        },
        "id": "7xjfdJw9sWRy",
        "outputId": "2ad0ac09-b836-4fe1-e692-74ff91a2fa21"
      },
      "execution_count": 20,
      "outputs": [
        {
          "output_type": "stream",
          "name": "stdout",
          "text": [
            "Overwriting input.txt2\n"
          ]
        }
      ]
    },
    {
      "cell_type": "code",
      "execution_count": 23,
      "metadata": {
        "id": "R8zHtG1wniTq"
      },
      "outputs": [],
      "source": [
        "def minimum_diff(filename):\n",
        "    '''\n",
        "    Parameters:\n",
        "        filename (str): データセットを記したファイルの名前\n",
        "\n",
        "    Returns:\n",
        "        list: 各データセットについて選択した2人の学生の成績の差の絶対値からなるリスト\n",
        "    '''\n",
        "    results = [] # 適宜変えよ\n",
        "\n",
        "    with open(filename, 'r') as file:\n",
        "        while True:\n",
        "            # 1行目を読み込んで、学生の人数nを取得\n",
        "            n = int(file.readline().strip())\n",
        "\n",
        "            # 終了条件\n",
        "            if n == 0:\n",
        "                break\n",
        "\n",
        "            # 2行目の成績を取得し、リストに変換\n",
        "            scores = list(map(int, file.readline().strip().split()))\n",
        "\n",
        "            # 成績をソート\n",
        "            scores.sort()\n",
        "\n",
        "            # 隣接する成績の差を調べ、最小の差を見つける\n",
        "            min_diff = float('inf')  # 初期値は無限大\n",
        "\n",
        "            for i in range(1, n):\n",
        "                diff = scores[i] - scores[i - 1]\n",
        "                if diff < min_diff:\n",
        "                    min_diff = diff\n",
        "\n",
        "            # 最小差を結果リストに追加\n",
        "            results.append(min_diff)\n",
        "\n",
        "    return results"
      ]
    },
    {
      "cell_type": "code",
      "source": [
        "print(minimum_diff('input.txt2'))"
      ],
      "metadata": {
        "colab": {
          "base_uri": "https://localhost:8080/"
        },
        "id": "tkpesC6-spwY",
        "outputId": "f763dc30-e4ba-43f0-aa43-b318ed3c72b4"
      },
      "execution_count": 24,
      "outputs": [
        {
          "output_type": "stream",
          "name": "stdout",
          "text": [
            "[0, 1, 5]\n"
          ]
        }
      ]
    },
    {
      "cell_type": "code",
      "source": [],
      "metadata": {
        "id": "cyvZ6pA7KqDO"
      },
      "execution_count": null,
      "outputs": []
    },
    {
      "cell_type": "markdown",
      "metadata": {
        "id": "ogLYIT_IniTq"
      },
      "source": [
        "## Q3. (20点)"
      ]
    },
    {
      "cell_type": "markdown",
      "metadata": {
        "id": "RLoaVKawniTq"
      },
      "source": [
        "K先生は， \"m\"，\"c\"，\"x\"，\"i\" の4個の文字と \"2\"，\"3\"，\"4\"，\"5\"，\"6\"，\"7\"，\"8\"，\"9\" の8個の数字を 使った整数値の新しい表記法を考案した． 数字の \"0\" と \"1\" は使用しない．\n",
        "\n",
        "文字 \"m\"，\"c\"，\"x\"，\"i\" は，それぞれ 1000，100，10，1 を表し， 数字 \"2\"，...,\"9\" は，それぞれ 2，...，9 を表す． なお，この表記法はローマ数字とは関係ない．\n",
        "\n",
        "たとえば，文字列\"5m2c3x4i\"， \"m2c4i\"，\"5m2c3x\"は， 整数 5234 (=`5*1000+2*100+3*10+4*1`)， 1204 (=`1000+2*100+4*1`)， 5230 (=`5*1000+2*100+3*10`) にそれぞれ対応する． この例の中の \"5m\"，\"2c\"，\"3x\"，\"4i\" は， それぞれ 5000 (=`5*1000`)，200 (=`2*100`)，30 (=`3*10`)，4 (=`4*1`) を表す．\n",
        "\n",
        "\"m\"，\"c\"，\"x\"，\"i\" の各文字の左には, \"2\"，\"3\"，...，\"9\" の中の一つの数字が前置されることがある． その場合には，その数字と文字は一組のものとみなされる． そのような一組は， その文字が表す値と前置された数字が表す値との積に等しい値を表す．\n",
        "\n",
        "文字列中に，\"m\"，\"c\"，\"x\"，\"i\" の各文字はたかだか1回現れる． 前置された数字がある場合には，その数字とともに現れる． 各文字の出現順序は，左から右に \"m\"，\"c\"，\"x\"，\"i\" である． 数字はある文字の前置数字としてだけ現れる． \"m\"，\"c\"，\"x\"，\"i\" の各文字は文字列中に現れないことがあるが，全体は空では無い． このようにしてできる文字列をMCXI文字列という.\n",
        "\n",
        "上記のように，MCXI文字列は， その中の文字の値，および， 前置される数字がある場合には数字と文字の組が表す値の和を取ることにより， 正の整数値を表す． MCXI文字列が表す正の整数値をMCXI値という． また，1〜9999の任意の整数値が与えられたとき， それをMCXI値として持つMCXI文字列は唯一存在する． たとえば，\"m2c4i\" のMCXI値は`1000+2*100+4*1`であるので， 1204 である． 1204 を MCXI値として持つMCXI文字列は \"m2c4i\" だけである． \"1m2c4i\"，\"mcc4i\", \"m2c0x4i\"，\"2cm4i\" などの文字列は，MCXI文字列としては許されない． その理由は，それぞれ，\"1\"の使用，\"c\"の2回の出現，\"0\"の使用， \"c\"と\"m\"の誤った順序，である．\n",
        "\n",
        "あなたの仕事は，K先生に代わって，2個のMCXI文字列を読み込み， そのMCXI値の和を計算して， 結果をMCXI文字列として出力する関数`mcxi_sum()`を書くことである．"
      ]
    },
    {
      "cell_type": "markdown",
      "metadata": {
        "id": "tdl0rj4-niTq"
      },
      "source": [
        "### `mcxi_sum()`の入力(引数): ファイル名"
      ]
    },
    {
      "cell_type": "markdown",
      "metadata": {
        "id": "1pC9rmtRniTq"
      },
      "source": [
        "入力はファイル名であり、ファイルの内容は次のようになっている．先頭$n$は500以下の正の十進整数であり， それに続く行数を表す． 第$k+1$行は，$k$番目の計算指示を表す ($k=1，\\dots，n$)．\n",
        "\n",
        "$n\\\\\n",
        "計算指示_1\\\\\n",
        "計算指示_2\\\\\n",
        "\\vdots\\\\\n",
        "計算指示_n$\n",
        "\n",
        "各計算指示は1行からなり，その形式は，\n",
        "\n",
        "MCXI文字列$_1$ MCXI文字列$_2$\n",
        "\n",
        "である． 2個のMCXI文字列は1個の空白で区切られる.\n",
        "\n",
        "各計算指示に現れる2個のMCXI文字列のMCXI値の和は9999以下と仮定してよい．"
      ]
    },
    {
      "cell_type": "markdown",
      "metadata": {
        "id": "deB5mVgjniTr"
      },
      "source": [
        "### `mcxi_sum()`の出力(返値): MCXI文字列のリスト"
      ]
    },
    {
      "cell_type": "markdown",
      "metadata": {
        "id": "eIruHcrAniTr"
      },
      "source": [
        "各計算指示についてのMCXI文字列を収めたリストを返せ． ただし，そのMCXI値は， 計算指示中の2個のMCXI文字列のMCXI値の和である． 出力は空白などの余分な文字を含まないこと．"
      ]
    },
    {
      "cell_type": "markdown",
      "metadata": {
        "id": "pUm7gFnkniTr"
      },
      "source": [
        "### 入力ファイル例"
      ]
    },
    {
      "cell_type": "markdown",
      "metadata": {
        "id": "-Vj_2yhwniTr"
      },
      "source": [
        "```text\n",
        "10\n",
        "xi x9i\n",
        "i 9i\n",
        "c2x2i 4c8x8i\n",
        "m2ci 4m7c9x8i\n",
        "9c9x9i i\n",
        "i 9m9c9x8i\n",
        "m i\n",
        "i m\n",
        "m9i i\n",
        "9m8c7xi c2x8i\n",
        "```"
      ]
    },
    {
      "cell_type": "markdown",
      "metadata": {
        "id": "piSJad-cniTr"
      },
      "source": [
        "### 入力ファイル例に対して期待される出力"
      ]
    },
    {
      "cell_type": "markdown",
      "metadata": {
        "id": "M2MCGYtxniTr"
      },
      "source": [
        "```python\n",
        "[\"3x\", \"x\", \"6cx\", \"5m9c9x9i\", \"m\", \"9m9c9x9i\", \"mi\", \"mi\", \"mx\", \"9m9c9x9i\"]\n",
        "```"
      ]
    },
    {
      "cell_type": "markdown",
      "metadata": {
        "id": "OJMswvRbniTs"
      },
      "source": [
        "### 解答欄"
      ]
    },
    {
      "cell_type": "code",
      "source": [
        "%%writefile input.txt3\n",
        "10\n",
        "xi x9i\n",
        "i 9i\n",
        "c2x2i 4c8x8i\n",
        "m2ci 4m7c9x8i\n",
        "9c9x9i i\n",
        "i 9m9c9x8i\n",
        "m i\n",
        "i m\n",
        "m9i i\n",
        "9m8c7xi c2x8i"
      ],
      "metadata": {
        "colab": {
          "base_uri": "https://localhost:8080/"
        },
        "id": "Dvece2XJB8Li",
        "outputId": "2e568077-9c9f-4590-9175-172a130ba087"
      },
      "execution_count": 30,
      "outputs": [
        {
          "output_type": "stream",
          "name": "stdout",
          "text": [
            "Overwriting input.txt3\n"
          ]
        }
      ]
    },
    {
      "cell_type": "code",
      "execution_count": 31,
      "metadata": {
        "id": "hpeXZ58qniTz"
      },
      "outputs": [],
      "source": [
        "def mcxi_to_int(mcxi_str):\n",
        "    \"\"\"MCXI文字列を整数に変換する関数\"\"\"\n",
        "    value_map = {'m': 1000, 'c': 100, 'x': 10, 'i': 1}\n",
        "    total_value = 0\n",
        "    current_value = 0\n",
        "\n",
        "    for char in mcxi_str:\n",
        "        if char.isdigit():\n",
        "            current_value = int(char)\n",
        "        else:\n",
        "            if current_value == 0:\n",
        "                current_value = 1  # 数字がない場合は1倍\n",
        "            total_value += current_value * value_map[char]\n",
        "            current_value = 0\n",
        "\n",
        "    return total_value\n",
        "\n",
        "def int_to_mcxi(value):\n",
        "    \"\"\"整数をMCXI文字列に変換する関数\"\"\"\n",
        "    result = []\n",
        "    value_map = [('m', 1000), ('c', 100), ('x', 10), ('i', 1)]\n",
        "\n",
        "    for symbol, unit_value in value_map:\n",
        "        if value >= unit_value:\n",
        "            quotient = value // unit_value\n",
        "            if quotient == 1:\n",
        "                result.append(symbol)\n",
        "            else:\n",
        "                result.append(f\"{quotient}{symbol}\")\n",
        "            value %= unit_value\n",
        "\n",
        "    return ''.join(result)\n",
        "\n",
        "def mcxi_sum(filename):\n",
        "    '''\n",
        "    Parameters:\n",
        "        filename (str): 計算指示を記したファイル名\n",
        "\n",
        "    Returns:\n",
        "        list: 各計算指示について計算した結果のmcxi文字列を収めたリスト\n",
        "    '''\n",
        "    results = []\n",
        "\n",
        "    with open(filename, 'r') as file:\n",
        "        n = int(file.readline().strip())\n",
        "\n",
        "        for _ in range(n):\n",
        "            # 2つのMCXI文字列を読み込む\n",
        "            mcxi1, mcxi2 = file.readline().strip().split()\n",
        "\n",
        "            # MCXI文字列を整数に変換\n",
        "            value1 = mcxi_to_int(mcxi1)\n",
        "            value2 = mcxi_to_int(mcxi2)\n",
        "\n",
        "            # 2つの整数の和を求める\n",
        "            total_value = value1 + value2\n",
        "\n",
        "            # 和をMCXI文字列に変換\n",
        "            result = int_to_mcxi(total_value)\n",
        "\n",
        "            # 結果をリストに追加\n",
        "            results.append(result)\n",
        "\n",
        "    return results"
      ]
    },
    {
      "cell_type": "code",
      "source": [
        "print(mcxi_sum('input.txt3'))"
      ],
      "metadata": {
        "colab": {
          "base_uri": "https://localhost:8080/"
        },
        "id": "R1taV42BByk6",
        "outputId": "bbf87cc7-a10e-4524-aaf6-dc4992b1a659"
      },
      "execution_count": 33,
      "outputs": [
        {
          "output_type": "stream",
          "name": "stdout",
          "text": [
            "['3x', 'x', '6cx', '5m9c9x9i', 'm', '9m9c9x9i', 'mi', 'mi', 'mx', '9m9c9x9i']\n"
          ]
        }
      ]
    },
    {
      "cell_type": "markdown",
      "source": [
        "AIを利用しました\n"
      ],
      "metadata": {
        "id": "h6uoQiExMDEj"
      }
    },
    {
      "cell_type": "code",
      "source": [],
      "metadata": {
        "id": "OOJiO0NyCRQ6"
      },
      "execution_count": null,
      "outputs": []
    }
  ],
  "metadata": {
    "language_info": {
      "name": "python"
    },
    "colab": {
      "provenance": [],
      "include_colab_link": true
    },
    "kernelspec": {
      "name": "python3",
      "display_name": "Python 3"
    }
  },
  "nbformat": 4,
  "nbformat_minor": 0
}